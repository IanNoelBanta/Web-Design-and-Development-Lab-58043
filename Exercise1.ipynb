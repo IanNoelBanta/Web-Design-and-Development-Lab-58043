{
  "nbformat": 4,
  "nbformat_minor": 0,
  "metadata": {
    "colab": {
      "name": "Exercise1.ipynb",
      "provenance": [],
      "collapsed_sections": [],
      "authorship_tag": "ABX9TyPq416rWhTG1FSC6BFqaxwe",
      "include_colab_link": true
    },
    "kernelspec": {
      "name": "python3",
      "display_name": "Python 3"
    },
    "language_info": {
      "name": "python"
    }
  },
  "cells": [
    {
      "cell_type": "markdown",
      "metadata": {
        "id": "view-in-github",
        "colab_type": "text"
      },
      "source": [
        "<a href=\"https://colab.research.google.com/github/IanNoelBanta/Web-Design-and-Development-Lab-58043/blob/main/Exercise1.ipynb\" target=\"_parent\"><img src=\"https://colab.research.google.com/assets/colab-badge.svg\" alt=\"Open In Colab\"/></a>"
      ]
    },
    {
      "cell_type": "code",
      "execution_count": 31,
      "metadata": {
        "colab": {
          "base_uri": "https://localhost:8080/"
        },
        "id": "vyK-qndAWSMv",
        "outputId": "9c569f5b-cd08-4e17-fe67-2ad88895bfc0"
      },
      "outputs": [
        {
          "output_type": "stream",
          "name": "stdout",
          "text": [
            "50.26548245743669\n"
          ]
        }
      ],
      "source": [
        "# import math to use math.pi for pi value\n",
        "import math\n",
        "r = 4\n",
        "area_of_circle = math.pi * r**2\n",
        "print(area_of_circle)"
      ]
    },
    {
      "cell_type": "code",
      "source": [
        "# create class to compute for the area\n",
        "class Area():\n",
        "  # if radius is given\n",
        "  def radius(self, r):\n",
        "    area_of_circle = math.pi * r**2\n",
        "    return (area_of_circle)\n",
        "  # if diameter is givin\n",
        "  def diameter(self, d):\n",
        "    area_of_circle = (math.pi * d**2) / 4\n",
        "    return (area_of_circle)\n",
        "\n",
        "# create an object, instantiate1\n",
        "circle = Area()\n",
        "\n",
        "# show options\n",
        "choice = int(input(\"\"\"Press 1 to enter radius\n",
        "Press 2 to enter diameter\\n\"\"\"))\n",
        "\n",
        "# if radius will be given\n",
        "if choice == 1:\n",
        "  r = int(input('Radius: '))\n",
        "  ans = round(circle.radius(r), 2)\n",
        "  print(f\"Area of the circle with radius {r}: {ans}\") \n",
        "\n",
        "# if diameter will be given\n",
        "if choice == 2:\n",
        "  d = int(input('Diameter: '))\n",
        "  ans = round(circle.diameter(d), 2)\n",
        "  print(f\"Area of the circle with diameter {d}: {ans}\") \n",
        "\n"
      ],
      "metadata": {
        "colab": {
          "base_uri": "https://localhost:8080/"
        },
        "id": "zoBm-_bXmBVu",
        "outputId": "4ed6dc8b-ab1a-4fec-d76b-3297b26bbbe4"
      },
      "execution_count": 33,
      "outputs": [
        {
          "output_type": "stream",
          "name": "stdout",
          "text": [
            "Press 1 to enter radius\n",
            "Press 2 to enter diameter\n",
            "2\n",
            "Diameter: 16\n",
            "Area of the circle with diameter 16: 201.06\n"
          ]
        }
      ]
    }
  ]
}